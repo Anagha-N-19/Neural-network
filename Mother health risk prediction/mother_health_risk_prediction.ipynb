{
 "cells": [
  {
   "cell_type": "code",
   "execution_count": 1,
   "id": "e9897b5c",
   "metadata": {},
   "outputs": [],
   "source": [
    "import numpy as np\n",
    "import pandas as pd\n",
    "import seaborn as sns\n",
    "import matplotlib.pyplot as plt"
   ]
  },
  {
   "cell_type": "code",
   "execution_count": 2,
   "id": "41045182",
   "metadata": {},
   "outputs": [],
   "source": [
    "df = pd.read_csv('mother.csv')"
   ]
  },
  {
   "cell_type": "code",
   "execution_count": 3,
   "id": "bef410e6",
   "metadata": {},
   "outputs": [
    {
     "data": {
      "text/html": [
       "<div>\n",
       "<style scoped>\n",
       "    .dataframe tbody tr th:only-of-type {\n",
       "        vertical-align: middle;\n",
       "    }\n",
       "\n",
       "    .dataframe tbody tr th {\n",
       "        vertical-align: top;\n",
       "    }\n",
       "\n",
       "    .dataframe thead th {\n",
       "        text-align: right;\n",
       "    }\n",
       "</style>\n",
       "<table border=\"1\" class=\"dataframe\">\n",
       "  <thead>\n",
       "    <tr style=\"text-align: right;\">\n",
       "      <th></th>\n",
       "      <th>Age</th>\n",
       "      <th>SystolicBP</th>\n",
       "      <th>DiastolicBP</th>\n",
       "      <th>BS</th>\n",
       "      <th>BodyTemp</th>\n",
       "      <th>HeartRate</th>\n",
       "      <th>RiskLevel</th>\n",
       "    </tr>\n",
       "  </thead>\n",
       "  <tbody>\n",
       "    <tr>\n",
       "      <th>0</th>\n",
       "      <td>25</td>\n",
       "      <td>130</td>\n",
       "      <td>80</td>\n",
       "      <td>15.0</td>\n",
       "      <td>98.0</td>\n",
       "      <td>86</td>\n",
       "      <td>high risk</td>\n",
       "    </tr>\n",
       "    <tr>\n",
       "      <th>1</th>\n",
       "      <td>35</td>\n",
       "      <td>140</td>\n",
       "      <td>90</td>\n",
       "      <td>13.0</td>\n",
       "      <td>98.0</td>\n",
       "      <td>70</td>\n",
       "      <td>high risk</td>\n",
       "    </tr>\n",
       "    <tr>\n",
       "      <th>2</th>\n",
       "      <td>29</td>\n",
       "      <td>90</td>\n",
       "      <td>70</td>\n",
       "      <td>8.0</td>\n",
       "      <td>100.0</td>\n",
       "      <td>80</td>\n",
       "      <td>high risk</td>\n",
       "    </tr>\n",
       "    <tr>\n",
       "      <th>3</th>\n",
       "      <td>30</td>\n",
       "      <td>140</td>\n",
       "      <td>85</td>\n",
       "      <td>7.0</td>\n",
       "      <td>98.0</td>\n",
       "      <td>70</td>\n",
       "      <td>high risk</td>\n",
       "    </tr>\n",
       "    <tr>\n",
       "      <th>4</th>\n",
       "      <td>35</td>\n",
       "      <td>120</td>\n",
       "      <td>60</td>\n",
       "      <td>6.1</td>\n",
       "      <td>98.0</td>\n",
       "      <td>76</td>\n",
       "      <td>low risk</td>\n",
       "    </tr>\n",
       "  </tbody>\n",
       "</table>\n",
       "</div>"
      ],
      "text/plain": [
       "   Age  SystolicBP  DiastolicBP    BS  BodyTemp  HeartRate  RiskLevel\n",
       "0   25         130           80  15.0      98.0         86  high risk\n",
       "1   35         140           90  13.0      98.0         70  high risk\n",
       "2   29          90           70   8.0     100.0         80  high risk\n",
       "3   30         140           85   7.0      98.0         70  high risk\n",
       "4   35         120           60   6.1      98.0         76   low risk"
      ]
     },
     "execution_count": 3,
     "metadata": {},
     "output_type": "execute_result"
    }
   ],
   "source": [
    "df.head()"
   ]
  },
  {
   "cell_type": "code",
   "execution_count": 4,
   "id": "bf3c3a28",
   "metadata": {},
   "outputs": [
    {
     "name": "stdout",
     "output_type": "stream",
     "text": [
      "<class 'pandas.core.frame.DataFrame'>\n",
      "RangeIndex: 1014 entries, 0 to 1013\n",
      "Data columns (total 7 columns):\n",
      " #   Column       Non-Null Count  Dtype  \n",
      "---  ------       --------------  -----  \n",
      " 0   Age          1014 non-null   int64  \n",
      " 1   SystolicBP   1014 non-null   int64  \n",
      " 2   DiastolicBP  1014 non-null   int64  \n",
      " 3   BS           1014 non-null   float64\n",
      " 4   BodyTemp     1014 non-null   float64\n",
      " 5   HeartRate    1014 non-null   int64  \n",
      " 6   RiskLevel    1014 non-null   object \n",
      "dtypes: float64(2), int64(4), object(1)\n",
      "memory usage: 55.6+ KB\n"
     ]
    }
   ],
   "source": [
    "df.info() "
   ]
  },
  {
   "cell_type": "code",
   "execution_count": 5,
   "id": "426f917f",
   "metadata": {},
   "outputs": [
    {
     "data": {
      "text/plain": [
       "array(['high risk', 'low risk', 'mid risk'], dtype=object)"
      ]
     },
     "execution_count": 5,
     "metadata": {},
     "output_type": "execute_result"
    }
   ],
   "source": [
    "df['RiskLevel'].unique()"
   ]
  },
  {
   "cell_type": "code",
   "execution_count": 6,
   "id": "30ae08f1",
   "metadata": {},
   "outputs": [
    {
     "data": {
      "text/plain": [
       "Age            0\n",
       "SystolicBP     0\n",
       "DiastolicBP    0\n",
       "BS             0\n",
       "BodyTemp       0\n",
       "HeartRate      0\n",
       "RiskLevel      0\n",
       "dtype: int64"
      ]
     },
     "execution_count": 6,
     "metadata": {},
     "output_type": "execute_result"
    }
   ],
   "source": [
    "df.isnull().sum()"
   ]
  },
  {
   "cell_type": "code",
   "execution_count": 7,
   "id": "cc6e023c",
   "metadata": {},
   "outputs": [
    {
     "data": {
      "text/html": [
       "<div>\n",
       "<style scoped>\n",
       "    .dataframe tbody tr th:only-of-type {\n",
       "        vertical-align: middle;\n",
       "    }\n",
       "\n",
       "    .dataframe tbody tr th {\n",
       "        vertical-align: top;\n",
       "    }\n",
       "\n",
       "    .dataframe thead th {\n",
       "        text-align: right;\n",
       "    }\n",
       "</style>\n",
       "<table border=\"1\" class=\"dataframe\">\n",
       "  <thead>\n",
       "    <tr style=\"text-align: right;\">\n",
       "      <th></th>\n",
       "      <th>Age</th>\n",
       "      <th>SystolicBP</th>\n",
       "      <th>DiastolicBP</th>\n",
       "      <th>BS</th>\n",
       "      <th>BodyTemp</th>\n",
       "      <th>HeartRate</th>\n",
       "    </tr>\n",
       "  </thead>\n",
       "  <tbody>\n",
       "    <tr>\n",
       "      <th>count</th>\n",
       "      <td>1014.000000</td>\n",
       "      <td>1014.000000</td>\n",
       "      <td>1014.000000</td>\n",
       "      <td>1014.000000</td>\n",
       "      <td>1014.000000</td>\n",
       "      <td>1014.000000</td>\n",
       "    </tr>\n",
       "    <tr>\n",
       "      <th>mean</th>\n",
       "      <td>29.871795</td>\n",
       "      <td>113.198225</td>\n",
       "      <td>76.460552</td>\n",
       "      <td>8.725986</td>\n",
       "      <td>98.665089</td>\n",
       "      <td>74.301775</td>\n",
       "    </tr>\n",
       "    <tr>\n",
       "      <th>std</th>\n",
       "      <td>13.474386</td>\n",
       "      <td>18.403913</td>\n",
       "      <td>13.885796</td>\n",
       "      <td>3.293532</td>\n",
       "      <td>1.371384</td>\n",
       "      <td>8.088702</td>\n",
       "    </tr>\n",
       "    <tr>\n",
       "      <th>min</th>\n",
       "      <td>10.000000</td>\n",
       "      <td>70.000000</td>\n",
       "      <td>49.000000</td>\n",
       "      <td>6.000000</td>\n",
       "      <td>98.000000</td>\n",
       "      <td>7.000000</td>\n",
       "    </tr>\n",
       "    <tr>\n",
       "      <th>25%</th>\n",
       "      <td>19.000000</td>\n",
       "      <td>100.000000</td>\n",
       "      <td>65.000000</td>\n",
       "      <td>6.900000</td>\n",
       "      <td>98.000000</td>\n",
       "      <td>70.000000</td>\n",
       "    </tr>\n",
       "    <tr>\n",
       "      <th>50%</th>\n",
       "      <td>26.000000</td>\n",
       "      <td>120.000000</td>\n",
       "      <td>80.000000</td>\n",
       "      <td>7.500000</td>\n",
       "      <td>98.000000</td>\n",
       "      <td>76.000000</td>\n",
       "    </tr>\n",
       "    <tr>\n",
       "      <th>75%</th>\n",
       "      <td>39.000000</td>\n",
       "      <td>120.000000</td>\n",
       "      <td>90.000000</td>\n",
       "      <td>8.000000</td>\n",
       "      <td>98.000000</td>\n",
       "      <td>80.000000</td>\n",
       "    </tr>\n",
       "    <tr>\n",
       "      <th>max</th>\n",
       "      <td>70.000000</td>\n",
       "      <td>160.000000</td>\n",
       "      <td>100.000000</td>\n",
       "      <td>19.000000</td>\n",
       "      <td>103.000000</td>\n",
       "      <td>90.000000</td>\n",
       "    </tr>\n",
       "  </tbody>\n",
       "</table>\n",
       "</div>"
      ],
      "text/plain": [
       "               Age   SystolicBP  DiastolicBP           BS     BodyTemp  \\\n",
       "count  1014.000000  1014.000000  1014.000000  1014.000000  1014.000000   \n",
       "mean     29.871795   113.198225    76.460552     8.725986    98.665089   \n",
       "std      13.474386    18.403913    13.885796     3.293532     1.371384   \n",
       "min      10.000000    70.000000    49.000000     6.000000    98.000000   \n",
       "25%      19.000000   100.000000    65.000000     6.900000    98.000000   \n",
       "50%      26.000000   120.000000    80.000000     7.500000    98.000000   \n",
       "75%      39.000000   120.000000    90.000000     8.000000    98.000000   \n",
       "max      70.000000   160.000000   100.000000    19.000000   103.000000   \n",
       "\n",
       "         HeartRate  \n",
       "count  1014.000000  \n",
       "mean     74.301775  \n",
       "std       8.088702  \n",
       "min       7.000000  \n",
       "25%      70.000000  \n",
       "50%      76.000000  \n",
       "75%      80.000000  \n",
       "max      90.000000  "
      ]
     },
     "execution_count": 7,
     "metadata": {},
     "output_type": "execute_result"
    }
   ],
   "source": [
    "df.describe()"
   ]
  },
  {
   "cell_type": "code",
   "execution_count": 8,
   "id": "b9e6dbaf",
   "metadata": {},
   "outputs": [
    {
     "data": {
      "text/plain": [
       "<AxesSubplot: xlabel='RiskLevel', ylabel='count'>"
      ]
     },
     "execution_count": 8,
     "metadata": {},
     "output_type": "execute_result"
    },
    {
     "data": {
      "image/png": "[encoded data removed]",
      "text/plain": [
       "<Figure size 640x480 with 1 Axes>"
      ]
     },
     "metadata": {},
     "output_type": "display_data"
    }
   ],
   "source": [
    "sns.countplot(x = 'RiskLevel', data = df)"
   ]
  },
  {
   "cell_type": "code",
   "execution_count": 9,
   "id": "ca6df53a",
   "metadata": {},
   "outputs": [],
   "source": [
    "df['RiskLevel'] = df['RiskLevel'].replace('high risk', 1)"
   ]
  },
  {
   "cell_type": "code",
   "execution_count": 10,
   "id": "2d2631dd",
   "metadata": {},
   "outputs": [],
   "source": [
    "df['RiskLevel'] = df['RiskLevel'].replace('mid risk', 1)"
   ]
  },
  {
   "cell_type": "code",
   "execution_count": 11,
   "id": "c61088db",
   "metadata": {},
   "outputs": [],
   "source": [
    "df['RiskLevel'] = df['RiskLevel'].replace('low risk', 0)"
   ]
  },
  {
   "cell_type": "code",
   "execution_count": 12,
   "id": "92b78745",
   "metadata": {},
   "outputs": [
    {
     "data": {
      "text/html": [
       "<div>\n",
       "<style scoped>\n",
       "    .dataframe tbody tr th:only-of-type {\n",
       "        vertical-align: middle;\n",
       "    }\n",
       "\n",
       "    .dataframe tbody tr th {\n",
       "        vertical-align: top;\n",
       "    }\n",
       "\n",
       "    .dataframe thead th {\n",
       "        text-align: right;\n",
       "    }\n",
       "</style>\n",
       "<table border=\"1\" class=\"dataframe\">\n",
       "  <thead>\n",
       "    <tr style=\"text-align: right;\">\n",
       "      <th></th>\n",
       "      <th>Age</th>\n",
       "      <th>SystolicBP</th>\n",
       "      <th>DiastolicBP</th>\n",
       "      <th>BS</th>\n",
       "      <th>BodyTemp</th>\n",
       "      <th>HeartRate</th>\n",
       "      <th>RiskLevel</th>\n",
       "    </tr>\n",
       "  </thead>\n",
       "  <tbody>\n",
       "    <tr>\n",
       "      <th>0</th>\n",
       "      <td>25</td>\n",
       "      <td>130</td>\n",
       "      <td>80</td>\n",
       "      <td>15.0</td>\n",
       "      <td>98.0</td>\n",
       "      <td>86</td>\n",
       "      <td>1</td>\n",
       "    </tr>\n",
       "    <tr>\n",
       "      <th>1</th>\n",
       "      <td>35</td>\n",
       "      <td>140</td>\n",
       "      <td>90</td>\n",
       "      <td>13.0</td>\n",
       "      <td>98.0</td>\n",
       "      <td>70</td>\n",
       "      <td>1</td>\n",
       "    </tr>\n",
       "    <tr>\n",
       "      <th>2</th>\n",
       "      <td>29</td>\n",
       "      <td>90</td>\n",
       "      <td>70</td>\n",
       "      <td>8.0</td>\n",
       "      <td>100.0</td>\n",
       "      <td>80</td>\n",
       "      <td>1</td>\n",
       "    </tr>\n",
       "    <tr>\n",
       "      <th>3</th>\n",
       "      <td>30</td>\n",
       "      <td>140</td>\n",
       "      <td>85</td>\n",
       "      <td>7.0</td>\n",
       "      <td>98.0</td>\n",
       "      <td>70</td>\n",
       "      <td>1</td>\n",
       "    </tr>\n",
       "    <tr>\n",
       "      <th>4</th>\n",
       "      <td>35</td>\n",
       "      <td>120</td>\n",
       "      <td>60</td>\n",
       "      <td>6.1</td>\n",
       "      <td>98.0</td>\n",
       "      <td>76</td>\n",
       "      <td>0</td>\n",
       "    </tr>\n",
       "  </tbody>\n",
       "</table>\n",
       "</div>"
      ],
      "text/plain": [
       "   Age  SystolicBP  DiastolicBP    BS  BodyTemp  HeartRate  RiskLevel\n",
       "0   25         130           80  15.0      98.0         86          1\n",
       "1   35         140           90  13.0      98.0         70          1\n",
       "2   29          90           70   8.0     100.0         80          1\n",
       "3   30         140           85   7.0      98.0         70          1\n",
       "4   35         120           60   6.1      98.0         76          0"
      ]
     },
     "execution_count": 12,
     "metadata": {},
     "output_type": "execute_result"
    }
   ],
   "source": [
    "df.head()"
   ]
  },
  {
   "cell_type": "code",
   "execution_count": 13,
   "id": "4a4f309e",
   "metadata": {},
   "outputs": [
    {
     "data": {
      "text/html": [
       "<div>\n",
       "<style scoped>\n",
       "    .dataframe tbody tr th:only-of-type {\n",
       "        vertical-align: middle;\n",
       "    }\n",
       "\n",
       "    .dataframe tbody tr th {\n",
       "        vertical-align: top;\n",
       "    }\n",
       "\n",
       "    .dataframe thead th {\n",
       "        text-align: right;\n",
       "    }\n",
       "</style>\n",
       "<table border=\"1\" class=\"dataframe\">\n",
       "  <thead>\n",
       "    <tr style=\"text-align: right;\">\n",
       "      <th></th>\n",
       "      <th>Age</th>\n",
       "      <th>SystolicBP</th>\n",
       "      <th>DiastolicBP</th>\n",
       "      <th>BS</th>\n",
       "      <th>BodyTemp</th>\n",
       "      <th>HeartRate</th>\n",
       "      <th>RiskLevel</th>\n",
       "    </tr>\n",
       "  </thead>\n",
       "  <tbody>\n",
       "    <tr>\n",
       "      <th>Age</th>\n",
       "      <td>1.000000</td>\n",
       "      <td>0.416045</td>\n",
       "      <td>0.398026</td>\n",
       "      <td>0.473284</td>\n",
       "      <td>-0.255323</td>\n",
       "      <td>0.079798</td>\n",
       "      <td>0.182170</td>\n",
       "    </tr>\n",
       "    <tr>\n",
       "      <th>SystolicBP</th>\n",
       "      <td>0.416045</td>\n",
       "      <td>1.000000</td>\n",
       "      <td>0.787006</td>\n",
       "      <td>0.425172</td>\n",
       "      <td>-0.286616</td>\n",
       "      <td>-0.023108</td>\n",
       "      <td>0.325681</td>\n",
       "    </tr>\n",
       "    <tr>\n",
       "      <th>DiastolicBP</th>\n",
       "      <td>0.398026</td>\n",
       "      <td>0.787006</td>\n",
       "      <td>1.000000</td>\n",
       "      <td>0.423824</td>\n",
       "      <td>-0.257538</td>\n",
       "      <td>-0.046151</td>\n",
       "      <td>0.231160</td>\n",
       "    </tr>\n",
       "    <tr>\n",
       "      <th>BS</th>\n",
       "      <td>0.473284</td>\n",
       "      <td>0.425172</td>\n",
       "      <td>0.423824</td>\n",
       "      <td>1.000000</td>\n",
       "      <td>-0.103493</td>\n",
       "      <td>0.142867</td>\n",
       "      <td>0.373772</td>\n",
       "    </tr>\n",
       "    <tr>\n",
       "      <th>BodyTemp</th>\n",
       "      <td>-0.255323</td>\n",
       "      <td>-0.286616</td>\n",
       "      <td>-0.257538</td>\n",
       "      <td>-0.103493</td>\n",
       "      <td>1.000000</td>\n",
       "      <td>0.098771</td>\n",
       "      <td>0.176538</td>\n",
       "    </tr>\n",
       "    <tr>\n",
       "      <th>HeartRate</th>\n",
       "      <td>0.079798</td>\n",
       "      <td>-0.023108</td>\n",
       "      <td>-0.046151</td>\n",
       "      <td>0.142867</td>\n",
       "      <td>0.098771</td>\n",
       "      <td>1.000000</td>\n",
       "      <td>0.154731</td>\n",
       "    </tr>\n",
       "    <tr>\n",
       "      <th>RiskLevel</th>\n",
       "      <td>0.182170</td>\n",
       "      <td>0.325681</td>\n",
       "      <td>0.231160</td>\n",
       "      <td>0.373772</td>\n",
       "      <td>0.176538</td>\n",
       "      <td>0.154731</td>\n",
       "      <td>1.000000</td>\n",
       "    </tr>\n",
       "  </tbody>\n",
       "</table>\n",
       "</div>"
      ],
      "text/plain": [
       "                  Age  SystolicBP  DiastolicBP        BS  BodyTemp  HeartRate  \\\n",
       "Age          1.000000    0.416045     0.398026  0.473284 -0.255323   0.079798   \n",
       "SystolicBP   0.416045    1.000000     0.787006  0.425172 -0.286616  -0.023108   \n",
       "DiastolicBP  0.398026    0.787006     1.000000  0.423824 -0.257538  -0.046151   \n",
       "BS           0.473284    0.425172     0.423824  1.000000 -0.103493   0.142867   \n",
       "BodyTemp    -0.255323   -0.286616    -0.257538 -0.103493  1.000000   0.098771   \n",
       "HeartRate    0.079798   -0.023108    -0.046151  0.142867  0.098771   1.000000   \n",
       "RiskLevel    0.182170    0.325681     0.231160  0.373772  0.176538   0.154731   \n",
       "\n",
       "             RiskLevel  \n",
       "Age           0.182170  \n",
       "SystolicBP    0.325681  \n",
       "DiastolicBP   0.231160  \n",
       "BS            0.373772  \n",
       "BodyTemp      0.176538  \n",
       "HeartRate     0.154731  \n",
       "RiskLevel     1.000000  "
      ]
     },
     "execution_count": 13,
     "metadata": {},
     "output_type": "execute_result"
    }
   ],
   "source": [
    "df.corr()"
   ]
  },
  {
   "cell_type": "code",
   "execution_count": 14,
   "id": "9326e72b",
   "metadata": {},
   "outputs": [
    {
     "data": {
      "text/plain": [
       "HeartRate      0.154731\n",
       "BodyTemp       0.176538\n",
       "Age            0.182170\n",
       "DiastolicBP    0.231160\n",
       "SystolicBP     0.325681\n",
       "BS             0.373772\n",
       "RiskLevel      1.000000\n",
       "Name: RiskLevel, dtype: float64"
      ]
     },
     "execution_count": 14,
     "metadata": {},
     "output_type": "execute_result"
    }
   ],
   "source": [
    "df.corr()['RiskLevel'].sort_values()"
   ]
  },
  {
   "cell_type": "code",
   "execution_count": 15,
   "id": "2ba6f62e",
   "metadata": {},
   "outputs": [
    {
     "data": {
      "text/plain": [
       "<AxesSubplot: >"
      ]
     },
     "execution_count": 15,
     "metadata": {},
     "output_type": "execute_result"
    },
    {
     "data": {
      "image/png": "[encoded data removed]",
      "text/plain": [
       "<Figure size 640x480 with 2 Axes>"
      ]
     },
     "metadata": {},
     "output_type": "display_data"
    }
   ],
   "source": [
    "sns.heatmap(df.corr())"
   ]
  },
  {
   "cell_type": "code",
   "execution_count": 16,
   "id": "1fd9f70e",
   "metadata": {},
   "outputs": [],
   "source": [
    "X = df.drop('RiskLevel', axis = 1).values\n",
    "y = df['RiskLevel'].values"
   ]
  },
  {
   "cell_type": "code",
   "execution_count": 17,
   "id": "42ded2f2",
   "metadata": {},
   "outputs": [],
   "source": [
    "from sklearn.model_selection import train_test_split"
   ]
  },
  {
   "cell_type": "code",
   "execution_count": 18,
   "id": "fd93736e",
   "metadata": {},
   "outputs": [],
   "source": [
    "X_train, X_test, y_train, y_test = train_test_split(X, y, test_size=0.33, random_state=42)"
   ]
  },
  {
   "cell_type": "code",
   "execution_count": 19,
   "id": "cca35688",
   "metadata": {},
   "outputs": [],
   "source": [
    "from sklearn.preprocessing import MinMaxScaler"
   ]
  },
  {
   "cell_type": "code",
   "execution_count": 20,
   "id": "a504ea99",
   "metadata": {},
   "outputs": [],
   "source": [
    "sc = MinMaxScaler()"
   ]
  },
  {
   "cell_type": "code",
   "execution_count": 21,
   "id": "93b2a546",
   "metadata": {},
   "outputs": [],
   "source": [
    "X_train = sc.fit_transform(X_train)"
   ]
  },
  {
   "cell_type": "code",
   "execution_count": 22,
   "id": "59a676be",
   "metadata": {},
   "outputs": [],
   "source": [
    "X_test = sc.transform(X_test)"
   ]
  },
  {
   "cell_type": "code",
   "execution_count": 23,
   "id": "0179117b",
   "metadata": {},
   "outputs": [],
   "source": [
    "from tensorflow.keras.models import Sequential\n",
    "from tensorflow.keras.layers import Dense,Dropout"
   ]
  },
  {
   "cell_type": "code",
   "execution_count": 24,
   "id": "1ba5bb2f",
   "metadata": {},
   "outputs": [
    {
     "data": {
      "text/plain": [
       "(679, 6)"
      ]
     },
     "execution_count": 24,
     "metadata": {},
     "output_type": "execute_result"
    }
   ],
   "source": [
    "X_train.shape"
   ]
  },
  {
   "cell_type": "code",
   "execution_count": 25,
   "id": "1b903d74",
   "metadata": {},
   "outputs": [
    {
     "data": {
      "text/plain": [
       "(335, 6)"
      ]
     },
     "execution_count": 25,
     "metadata": {},
     "output_type": "execute_result"
    }
   ],
   "source": [
    "X_test.shape"
   ]
  },
  {
   "cell_type": "code",
   "execution_count": 26,
   "id": "498e559d",
   "metadata": {},
   "outputs": [
    {
     "data": {
      "text/plain": [
       "(679,)"
      ]
     },
     "execution_count": 26,
     "metadata": {},
     "output_type": "execute_result"
    }
   ],
   "source": [
    "y_train.shape"
   ]
  },
  {
   "cell_type": "code",
   "execution_count": 27,
   "id": "dc1807fc",
   "metadata": {},
   "outputs": [
    {
     "data": {
      "text/plain": [
       "(335,)"
      ]
     },
     "execution_count": 27,
     "metadata": {},
     "output_type": "execute_result"
    }
   ],
   "source": [
    "y_test.shape"
   ]
  },
  {
   "cell_type": "code",
   "execution_count": 28,
   "id": "ea5906fa",
   "metadata": {},
   "outputs": [],
   "source": [
    "model = Sequential()\n",
    "model.add(Dense(4, activation = 'relu'))\n",
    "model.add(Dense(4, activation = 'relu'))\n",
    "model.add(Dense(1, activation = 'sigmoid'))\n",
    "model.compile(loss='binary_crossentropy', optimizer='adam')"
   ]
  },
  {
   "cell_type": "code",
   "execution_count": 29,
   "id": "42be54a9",
   "metadata": {},
   "outputs": [
    {
     "name": "stdout",
     "output_type": "stream",
     "text": [
      "Epoch 1/200\n",
      "22/22 [==============================] - 1s 16ms/step - loss: 0.7060 - val_loss: 0.7029\n",
      "Epoch 2/200\n",
      "22/22 [==============================] - 0s 5ms/step - loss: 0.6975 - val_loss: 0.6932\n",
      "Epoch 3/200\n",
      "22/22 [==============================] - 0s 6ms/step - loss: 0.6912 - val_loss: 0.6880\n",
      "Epoch 4/200\n",
      "22/22 [==============================] - 0s 4ms/step - loss: 0.6883 - val_loss: 0.6860\n",
      "Epoch 5/200\n",
      "22/22 [==============================] - 0s 4ms/step - loss: 0.6870 - val_loss: 0.6845\n",
      "Epoch 6/200\n",
      "22/22 [==============================] - 0s 4ms/step - loss: 0.6860 - val_loss: 0.6829\n",
      "Epoch 7/200\n",
      "22/22 [==============================] - 0s 4ms/step - loss: 0.6850 - val_loss: 0.6817\n",
      "Epoch 8/200\n",
      "22/22 [==============================] - 0s 4ms/step - loss: 0.6841 - val_loss: 0.6803\n",
      "Epoch 9/200\n",
      "22/22 [==============================] - 0s 4ms/step - loss: 0.6831 - val_loss: 0.6787\n",
      "Epoch 10/200\n",
      "22/22 [==============================] - 0s 4ms/step - loss: 0.6821 - val_loss: 0.6774\n",
      "Epoch 11/200\n",
      "22/22 [==============================] - 0s 4ms/step - loss: 0.6810 - val_loss: 0.6758\n",
      "Epoch 12/200\n",
      "22/22 [==============================] - 0s 7ms/step - loss: 0.6801 - val_loss: 0.6743\n",
      "Epoch 13/200\n",
      "22/22 [==============================] - 0s 5ms/step - loss: 0.6790 - val_loss: 0.6730\n",
      "Epoch 14/200\n",
      "22/22 [==============================] - 0s 6ms/step - loss: 0.6779 - val_loss: 0.6715\n",
      "Epoch 15/200\n",
      "22/22 [==============================] - 0s 6ms/step - loss: 0.6767 - val_loss: 0.6701\n",
      "Epoch 16/200\n",
      "22/22 [==============================] - 0s 4ms/step - loss: 0.6758 - val_loss: 0.6686\n",
      "Epoch 17/200\n",
      "22/22 [==============================] - 0s 4ms/step - loss: 0.6746 - val_loss: 0.6675\n",
      "Epoch 18/200\n",
      "22/22 [==============================] - 0s 4ms/step - loss: 0.6736 - val_loss: 0.6662\n",
      "Epoch 19/200\n",
      "22/22 [==============================] - 0s 4ms/step - loss: 0.6726 - val_loss: 0.6649\n",
      "Epoch 20/200\n",
      "22/22 [==============================] - 0s 4ms/step - loss: 0.6715 - val_loss: 0.6637\n",
      "Epoch 21/200\n",
      "22/22 [==============================] - 0s 5ms/step - loss: 0.6706 - val_loss: 0.6628\n",
      "Epoch 22/200\n",
      "22/22 [==============================] - 0s 5ms/step - loss: 0.6691 - val_loss: 0.6617\n",
      "Epoch 23/200\n",
      "22/22 [==============================] - 0s 5ms/step - loss: 0.6677 - val_loss: 0.6604\n",
      "Epoch 24/200\n",
      "22/22 [==============================] - 0s 6ms/step - loss: 0.6661 - val_loss: 0.6590\n",
      "Epoch 25/200\n",
      "22/22 [==============================] - 0s 4ms/step - loss: 0.6646 - val_loss: 0.6572\n",
      "Epoch 26/200\n",
      "22/22 [==============================] - 0s 4ms/step - loss: 0.6629 - val_loss: 0.6555\n",
      "Epoch 27/200\n",
      "22/22 [==============================] - 0s 4ms/step - loss: 0.6610 - val_loss: 0.6537\n",
      "Epoch 28/200\n",
      "22/22 [==============================] - 0s 5ms/step - loss: 0.6590 - val_loss: 0.6519\n",
      "Epoch 29/200\n",
      "22/22 [==============================] - 0s 5ms/step - loss: 0.6568 - val_loss: 0.6500\n",
      "Epoch 30/200\n",
      "22/22 [==============================] - 0s 4ms/step - loss: 0.6546 - val_loss: 0.6480\n",
      "Epoch 31/200\n",
      "22/22 [==============================] - 0s 5ms/step - loss: 0.6521 - val_loss: 0.6457\n",
      "Epoch 32/200\n",
      "22/22 [==============================] - 0s 4ms/step - loss: 0.6499 - val_loss: 0.6428\n",
      "Epoch 33/200\n",
      "22/22 [==============================] - 0s 4ms/step - loss: 0.6468 - val_loss: 0.6411\n",
      "Epoch 34/200\n",
      "22/22 [==============================] - 0s 5ms/step - loss: 0.6441 - val_loss: 0.6376\n",
      "Epoch 35/200\n",
      "22/22 [==============================] - 0s 4ms/step - loss: 0.6410 - val_loss: 0.6345\n",
      "Epoch 36/200\n",
      "22/22 [==============================] - 0s 4ms/step - loss: 0.6375 - val_loss: 0.6312\n",
      "Epoch 37/200\n",
      "22/22 [==============================] - 0s 4ms/step - loss: 0.6345 - val_loss: 0.6277\n",
      "Epoch 38/200\n",
      "22/22 [==============================] - 0s 4ms/step - loss: 0.6307 - val_loss: 0.6242\n",
      "Epoch 39/200\n",
      "22/22 [==============================] - 0s 4ms/step - loss: 0.6270 - val_loss: 0.6200\n",
      "Epoch 40/200\n",
      "22/22 [==============================] - 0s 4ms/step - loss: 0.6238 - val_loss: 0.6162\n",
      "Epoch 41/200\n",
      "22/22 [==============================] - 0s 4ms/step - loss: 0.6193 - val_loss: 0.6144\n",
      "Epoch 42/200\n",
      "22/22 [==============================] - 0s 4ms/step - loss: 0.6156 - val_loss: 0.6106\n",
      "Epoch 43/200\n",
      "22/22 [==============================] - 0s 4ms/step - loss: 0.6119 - val_loss: 0.6065\n",
      "Epoch 44/200\n",
      "22/22 [==============================] - 0s 4ms/step - loss: 0.6077 - val_loss: 0.6027\n",
      "Epoch 45/200\n",
      "22/22 [==============================] - 0s 5ms/step - loss: 0.6043 - val_loss: 0.5994\n",
      "Epoch 46/200\n",
      "22/22 [==============================] - 0s 4ms/step - loss: 0.6001 - val_loss: 0.5950\n",
      "Epoch 47/200\n",
      "22/22 [==============================] - 0s 4ms/step - loss: 0.5963 - val_loss: 0.5915\n",
      "Epoch 48/200\n",
      "22/22 [==============================] - 0s 4ms/step - loss: 0.5926 - val_loss: 0.5878\n",
      "Epoch 49/200\n",
      "22/22 [==============================] - 0s 4ms/step - loss: 0.5889 - val_loss: 0.5850\n",
      "Epoch 50/200\n",
      "22/22 [==============================] - 0s 4ms/step - loss: 0.5851 - val_loss: 0.5800\n",
      "Epoch 51/200\n",
      "22/22 [==============================] - 0s 4ms/step - loss: 0.5820 - val_loss: 0.5776\n",
      "Epoch 52/200\n",
      "22/22 [==============================] - 0s 4ms/step - loss: 0.5806 - val_loss: 0.5758\n",
      "Epoch 53/200\n",
      "22/22 [==============================] - 0s 6ms/step - loss: 0.5761 - val_loss: 0.5706\n",
      "Epoch 54/200\n",
      "22/22 [==============================] - 0s 5ms/step - loss: 0.5738 - val_loss: 0.5682\n",
      "Epoch 55/200\n",
      "22/22 [==============================] - 0s 6ms/step - loss: 0.5709 - val_loss: 0.5665\n",
      "Epoch 56/200\n",
      "22/22 [==============================] - 0s 6ms/step - loss: 0.5681 - val_loss: 0.5649\n",
      "Epoch 57/200\n",
      "22/22 [==============================] - 0s 5ms/step - loss: 0.5657 - val_loss: 0.5629\n",
      "Epoch 58/200\n",
      "22/22 [==============================] - 0s 4ms/step - loss: 0.5637 - val_loss: 0.5591\n",
      "Epoch 59/200\n",
      "22/22 [==============================] - 0s 5ms/step - loss: 0.5614 - val_loss: 0.5584\n",
      "Epoch 60/200\n",
      "22/22 [==============================] - 0s 5ms/step - loss: 0.5598 - val_loss: 0.5525\n",
      "Epoch 61/200\n",
      "22/22 [==============================] - 0s 4ms/step - loss: 0.5579 - val_loss: 0.5548\n",
      "Epoch 62/200\n",
      "22/22 [==============================] - 0s 4ms/step - loss: 0.5562 - val_loss: 0.5529\n",
      "Epoch 63/200\n",
      "22/22 [==============================] - 0s 4ms/step - loss: 0.5550 - val_loss: 0.5474\n",
      "Epoch 64/200\n",
      "22/22 [==============================] - 0s 4ms/step - loss: 0.5523 - val_loss: 0.5491\n",
      "Epoch 65/200\n",
      "22/22 [==============================] - 0s 5ms/step - loss: 0.5521 - val_loss: 0.5481\n",
      "Epoch 66/200\n",
      "22/22 [==============================] - 0s 6ms/step - loss: 0.5500 - val_loss: 0.5452\n",
      "Epoch 67/200\n",
      "22/22 [==============================] - 0s 7ms/step - loss: 0.5488 - val_loss: 0.5445\n",
      "Epoch 68/200\n",
      "22/22 [==============================] - 0s 5ms/step - loss: 0.5474 - val_loss: 0.5413\n",
      "Epoch 69/200\n",
      "22/22 [==============================] - 0s 4ms/step - loss: 0.5463 - val_loss: 0.5399\n",
      "Epoch 70/200\n",
      "22/22 [==============================] - 0s 4ms/step - loss: 0.5451 - val_loss: 0.5420\n",
      "Epoch 71/200\n",
      "22/22 [==============================] - 0s 4ms/step - loss: 0.5440 - val_loss: 0.5397\n",
      "Epoch 72/200\n",
      "22/22 [==============================] - 0s 4ms/step - loss: 0.5440 - val_loss: 0.5350\n",
      "Epoch 73/200\n",
      "22/22 [==============================] - 0s 4ms/step - loss: 0.5424 - val_loss: 0.5397\n",
      "Epoch 74/200\n",
      "22/22 [==============================] - 0s 3ms/step - loss: 0.5420 - val_loss: 0.5361\n",
      "Epoch 75/200\n",
      "22/22 [==============================] - 0s 4ms/step - loss: 0.5410 - val_loss: 0.5361\n",
      "Epoch 76/200\n",
      "22/22 [==============================] - 0s 3ms/step - loss: 0.5398 - val_loss: 0.5334\n",
      "Epoch 77/200\n",
      "22/22 [==============================] - 0s 4ms/step - loss: 0.5389 - val_loss: 0.5347\n",
      "Epoch 78/200\n",
      "22/22 [==============================] - 0s 3ms/step - loss: 0.5385 - val_loss: 0.5338\n",
      "Epoch 79/200\n",
      "22/22 [==============================] - 0s 4ms/step - loss: 0.5373 - val_loss: 0.5311\n",
      "Epoch 80/200\n",
      "22/22 [==============================] - 0s 4ms/step - loss: 0.5367 - val_loss: 0.5308\n",
      "Epoch 81/200\n",
      "22/22 [==============================] - 0s 3ms/step - loss: 0.5361 - val_loss: 0.5294\n",
      "Epoch 82/200\n",
      "22/22 [==============================] - 0s 4ms/step - loss: 0.5355 - val_loss: 0.5303\n",
      "Epoch 83/200\n"
     ]
    },
    {
     "name": "stdout",
     "output_type": "stream",
     "text": [
      "22/22 [==============================] - 0s 3ms/step - loss: 0.5349 - val_loss: 0.5304\n",
      "Epoch 84/200\n",
      "22/22 [==============================] - 0s 3ms/step - loss: 0.5341 - val_loss: 0.5283\n",
      "Epoch 85/200\n",
      "22/22 [==============================] - 0s 4ms/step - loss: 0.5336 - val_loss: 0.5279\n",
      "Epoch 86/200\n",
      "22/22 [==============================] - 0s 4ms/step - loss: 0.5332 - val_loss: 0.5263\n",
      "Epoch 87/200\n",
      "22/22 [==============================] - 0s 4ms/step - loss: 0.5338 - val_loss: 0.5280\n",
      "Epoch 88/200\n",
      "22/22 [==============================] - 0s 4ms/step - loss: 0.5316 - val_loss: 0.5250\n",
      "Epoch 89/200\n",
      "22/22 [==============================] - 0s 4ms/step - loss: 0.5315 - val_loss: 0.5253\n",
      "Epoch 90/200\n",
      "22/22 [==============================] - 0s 4ms/step - loss: 0.5307 - val_loss: 0.5249\n",
      "Epoch 91/200\n",
      "22/22 [==============================] - 0s 4ms/step - loss: 0.5305 - val_loss: 0.5243\n",
      "Epoch 92/200\n",
      "22/22 [==============================] - 0s 3ms/step - loss: 0.5297 - val_loss: 0.5238\n",
      "Epoch 93/200\n",
      "22/22 [==============================] - 0s 4ms/step - loss: 0.5290 - val_loss: 0.5257\n",
      "Epoch 94/200\n",
      "22/22 [==============================] - 0s 4ms/step - loss: 0.5292 - val_loss: 0.5247\n",
      "Epoch 95/200\n",
      "22/22 [==============================] - 0s 5ms/step - loss: 0.5288 - val_loss: 0.5226\n",
      "Epoch 96/200\n",
      "22/22 [==============================] - 0s 4ms/step - loss: 0.5278 - val_loss: 0.5224\n",
      "Epoch 97/200\n",
      "22/22 [==============================] - 0s 4ms/step - loss: 0.5290 - val_loss: 0.5236\n",
      "Epoch 98/200\n",
      "22/22 [==============================] - 0s 4ms/step - loss: 0.5270 - val_loss: 0.5201\n",
      "Epoch 99/200\n",
      "22/22 [==============================] - 0s 5ms/step - loss: 0.5271 - val_loss: 0.5190\n",
      "Epoch 100/200\n",
      "22/22 [==============================] - 0s 5ms/step - loss: 0.5264 - val_loss: 0.5227\n",
      "Epoch 101/200\n",
      "22/22 [==============================] - 0s 5ms/step - loss: 0.5259 - val_loss: 0.5215\n",
      "Epoch 102/200\n",
      "22/22 [==============================] - 0s 5ms/step - loss: 0.5252 - val_loss: 0.5220\n",
      "Epoch 103/200\n",
      "22/22 [==============================] - 0s 5ms/step - loss: 0.5255 - val_loss: 0.5226\n",
      "Epoch 104/200\n",
      "22/22 [==============================] - 0s 4ms/step - loss: 0.5246 - val_loss: 0.5187\n",
      "Epoch 105/200\n",
      "22/22 [==============================] - 0s 4ms/step - loss: 0.5241 - val_loss: 0.5195\n",
      "Epoch 106/200\n",
      "22/22 [==============================] - 0s 4ms/step - loss: 0.5235 - val_loss: 0.5203\n",
      "Epoch 107/200\n",
      "22/22 [==============================] - 0s 3ms/step - loss: 0.5237 - val_loss: 0.5223\n",
      "Epoch 108/200\n",
      "22/22 [==============================] - 0s 5ms/step - loss: 0.5239 - val_loss: 0.5186\n",
      "Epoch 109/200\n",
      "22/22 [==============================] - 0s 6ms/step - loss: 0.5223 - val_loss: 0.5205\n",
      "Epoch 110/200\n",
      "22/22 [==============================] - 0s 5ms/step - loss: 0.5223 - val_loss: 0.5191\n",
      "Epoch 111/200\n",
      "22/22 [==============================] - 0s 6ms/step - loss: 0.5216 - val_loss: 0.5163\n",
      "Epoch 112/200\n",
      "22/22 [==============================] - 0s 4ms/step - loss: 0.5213 - val_loss: 0.5182\n",
      "Epoch 113/200\n",
      "22/22 [==============================] - 0s 5ms/step - loss: 0.5211 - val_loss: 0.5177\n",
      "Epoch 114/200\n",
      "22/22 [==============================] - 0s 5ms/step - loss: 0.5208 - val_loss: 0.5179\n",
      "Epoch 115/200\n",
      "22/22 [==============================] - 0s 5ms/step - loss: 0.5207 - val_loss: 0.5153\n",
      "Epoch 116/200\n",
      "22/22 [==============================] - 0s 5ms/step - loss: 0.5194 - val_loss: 0.5181\n",
      "Epoch 117/200\n",
      "22/22 [==============================] - 0s 4ms/step - loss: 0.5204 - val_loss: 0.5166\n",
      "Epoch 118/200\n",
      "22/22 [==============================] - 0s 4ms/step - loss: 0.5199 - val_loss: 0.5159\n",
      "Epoch 119/200\n",
      "22/22 [==============================] - 0s 4ms/step - loss: 0.5191 - val_loss: 0.5153\n",
      "Epoch 120/200\n",
      "22/22 [==============================] - 0s 6ms/step - loss: 0.5194 - val_loss: 0.5134\n",
      "Epoch 121/200\n",
      "22/22 [==============================] - 0s 5ms/step - loss: 0.5184 - val_loss: 0.5161\n",
      "Epoch 122/200\n",
      "22/22 [==============================] - 0s 5ms/step - loss: 0.5180 - val_loss: 0.5146\n",
      "Epoch 123/200\n",
      "22/22 [==============================] - 0s 5ms/step - loss: 0.5178 - val_loss: 0.5149\n",
      "Epoch 124/200\n",
      "22/22 [==============================] - 0s 4ms/step - loss: 0.5174 - val_loss: 0.5140\n",
      "Epoch 125/200\n",
      "22/22 [==============================] - 0s 4ms/step - loss: 0.5174 - val_loss: 0.5135\n",
      "Epoch 126/200\n",
      "22/22 [==============================] - 0s 4ms/step - loss: 0.5167 - val_loss: 0.5150\n",
      "Epoch 127/200\n",
      "22/22 [==============================] - 0s 4ms/step - loss: 0.5163 - val_loss: 0.5143\n",
      "Epoch 128/200\n",
      "22/22 [==============================] - 0s 3ms/step - loss: 0.5163 - val_loss: 0.5137\n",
      "Epoch 129/200\n",
      "22/22 [==============================] - 0s 4ms/step - loss: 0.5158 - val_loss: 0.5123\n",
      "Epoch 130/200\n",
      "22/22 [==============================] - 0s 4ms/step - loss: 0.5156 - val_loss: 0.5111\n",
      "Epoch 131/200\n",
      "22/22 [==============================] - 0s 5ms/step - loss: 0.5151 - val_loss: 0.5130\n",
      "Epoch 132/200\n",
      "22/22 [==============================] - 0s 5ms/step - loss: 0.5147 - val_loss: 0.5116\n",
      "Epoch 133/200\n",
      "22/22 [==============================] - 0s 4ms/step - loss: 0.5154 - val_loss: 0.5119\n",
      "Epoch 134/200\n",
      "22/22 [==============================] - 0s 4ms/step - loss: 0.5150 - val_loss: 0.5098\n",
      "Epoch 135/200\n",
      "22/22 [==============================] - 0s 4ms/step - loss: 0.5142 - val_loss: 0.5124\n",
      "Epoch 136/200\n",
      "22/22 [==============================] - 0s 4ms/step - loss: 0.5140 - val_loss: 0.5099\n",
      "Epoch 137/200\n",
      "22/22 [==============================] - 0s 4ms/step - loss: 0.5138 - val_loss: 0.5112\n",
      "Epoch 138/200\n",
      "22/22 [==============================] - 0s 5ms/step - loss: 0.5133 - val_loss: 0.5098\n",
      "Epoch 139/200\n",
      "22/22 [==============================] - 0s 5ms/step - loss: 0.5130 - val_loss: 0.5106\n",
      "Epoch 140/200\n",
      "22/22 [==============================] - 0s 5ms/step - loss: 0.5126 - val_loss: 0.5115\n",
      "Epoch 141/200\n",
      "22/22 [==============================] - 0s 4ms/step - loss: 0.5129 - val_loss: 0.5119\n",
      "Epoch 142/200\n",
      "22/22 [==============================] - 0s 4ms/step - loss: 0.5123 - val_loss: 0.5114\n",
      "Epoch 143/200\n",
      "22/22 [==============================] - 0s 4ms/step - loss: 0.5128 - val_loss: 0.5083\n",
      "Epoch 144/200\n",
      "22/22 [==============================] - 0s 4ms/step - loss: 0.5128 - val_loss: 0.5131\n",
      "Epoch 145/200\n",
      "22/22 [==============================] - 0s 4ms/step - loss: 0.5121 - val_loss: 0.5107\n",
      "Epoch 146/200\n",
      "22/22 [==============================] - 0s 4ms/step - loss: 0.5111 - val_loss: 0.5099\n",
      "Epoch 147/200\n",
      "22/22 [==============================] - 0s 4ms/step - loss: 0.5113 - val_loss: 0.5072\n",
      "Epoch 148/200\n",
      "22/22 [==============================] - 0s 4ms/step - loss: 0.5114 - val_loss: 0.5111\n",
      "Epoch 149/200\n",
      "22/22 [==============================] - 0s 4ms/step - loss: 0.5109 - val_loss: 0.5095\n",
      "Epoch 150/200\n",
      "22/22 [==============================] - 0s 4ms/step - loss: 0.5107 - val_loss: 0.5096\n",
      "Epoch 151/200\n",
      "22/22 [==============================] - 0s 4ms/step - loss: 0.5106 - val_loss: 0.5109\n",
      "Epoch 152/200\n",
      "22/22 [==============================] - 0s 5ms/step - loss: 0.5103 - val_loss: 0.5105\n",
      "Epoch 153/200\n",
      "22/22 [==============================] - 0s 5ms/step - loss: 0.5098 - val_loss: 0.5091\n",
      "Epoch 154/200\n",
      "22/22 [==============================] - 0s 4ms/step - loss: 0.5098 - val_loss: 0.5088\n",
      "Epoch 155/200\n",
      "22/22 [==============================] - 0s 4ms/step - loss: 0.5095 - val_loss: 0.5078\n",
      "Epoch 156/200\n",
      "22/22 [==============================] - 0s 4ms/step - loss: 0.5097 - val_loss: 0.5056\n",
      "Epoch 157/200\n",
      "22/22 [==============================] - 0s 4ms/step - loss: 0.5097 - val_loss: 0.5106\n",
      "Epoch 158/200\n",
      "22/22 [==============================] - 0s 3ms/step - loss: 0.5091 - val_loss: 0.5070\n",
      "Epoch 159/200\n",
      "22/22 [==============================] - 0s 4ms/step - loss: 0.5086 - val_loss: 0.5096\n",
      "Epoch 160/200\n",
      "22/22 [==============================] - 0s 4ms/step - loss: 0.5093 - val_loss: 0.5064\n",
      "Epoch 161/200\n",
      "22/22 [==============================] - 0s 4ms/step - loss: 0.5099 - val_loss: 0.5122\n",
      "Epoch 162/200\n",
      "22/22 [==============================] - 0s 4ms/step - loss: 0.5093 - val_loss: 0.5049\n",
      "Epoch 163/200\n",
      "22/22 [==============================] - 0s 4ms/step - loss: 0.5077 - val_loss: 0.5086\n",
      "Epoch 164/200\n"
     ]
    },
    {
     "name": "stdout",
     "output_type": "stream",
     "text": [
      "22/22 [==============================] - 0s 5ms/step - loss: 0.5082 - val_loss: 0.5099\n",
      "Epoch 165/200\n",
      "22/22 [==============================] - 0s 6ms/step - loss: 0.5084 - val_loss: 0.5063\n",
      "Epoch 166/200\n",
      "22/22 [==============================] - 0s 5ms/step - loss: 0.5076 - val_loss: 0.5078\n",
      "Epoch 167/200\n",
      "22/22 [==============================] - 0s 5ms/step - loss: 0.5077 - val_loss: 0.5083\n",
      "Epoch 168/200\n",
      "22/22 [==============================] - 0s 5ms/step - loss: 0.5073 - val_loss: 0.5082\n",
      "Epoch 169/200\n",
      "22/22 [==============================] - 0s 4ms/step - loss: 0.5070 - val_loss: 0.5059\n",
      "Epoch 170/200\n",
      "22/22 [==============================] - 0s 4ms/step - loss: 0.5066 - val_loss: 0.5055\n",
      "Epoch 171/200\n",
      "22/22 [==============================] - 0s 4ms/step - loss: 0.5066 - val_loss: 0.5059\n",
      "Epoch 172/200\n",
      "22/22 [==============================] - 0s 4ms/step - loss: 0.5066 - val_loss: 0.5043\n",
      "Epoch 173/200\n",
      "22/22 [==============================] - 0s 4ms/step - loss: 0.5066 - val_loss: 0.5046\n",
      "Epoch 174/200\n",
      "22/22 [==============================] - 0s 4ms/step - loss: 0.5069 - val_loss: 0.5082\n",
      "Epoch 175/200\n",
      "22/22 [==============================] - 0s 6ms/step - loss: 0.5059 - val_loss: 0.5051\n",
      "Epoch 176/200\n",
      "22/22 [==============================] - 0s 6ms/step - loss: 0.5062 - val_loss: 0.5050\n",
      "Epoch 177/200\n",
      "22/22 [==============================] - 0s 6ms/step - loss: 0.5058 - val_loss: 0.5039\n",
      "Epoch 178/200\n",
      "22/22 [==============================] - 0s 6ms/step - loss: 0.5058 - val_loss: 0.5036\n",
      "Epoch 179/200\n",
      "22/22 [==============================] - 0s 5ms/step - loss: 0.5056 - val_loss: 0.5039\n",
      "Epoch 180/200\n",
      "22/22 [==============================] - 0s 4ms/step - loss: 0.5074 - val_loss: 0.5096\n",
      "Epoch 181/200\n",
      "22/22 [==============================] - 0s 4ms/step - loss: 0.5049 - val_loss: 0.5049\n",
      "Epoch 182/200\n",
      "22/22 [==============================] - 0s 4ms/step - loss: 0.5052 - val_loss: 0.5046\n",
      "Epoch 183/200\n",
      "22/22 [==============================] - 0s 4ms/step - loss: 0.5049 - val_loss: 0.5028\n",
      "Epoch 184/200\n",
      "22/22 [==============================] - 0s 4ms/step - loss: 0.5048 - val_loss: 0.5041\n",
      "Epoch 185/200\n",
      "22/22 [==============================] - 0s 4ms/step - loss: 0.5047 - val_loss: 0.5064\n",
      "Epoch 186/200\n",
      "22/22 [==============================] - 0s 4ms/step - loss: 0.5052 - val_loss: 0.5039\n",
      "Epoch 187/200\n",
      "22/22 [==============================] - 0s 4ms/step - loss: 0.5044 - val_loss: 0.5060\n",
      "Epoch 188/200\n",
      "22/22 [==============================] - 0s 4ms/step - loss: 0.5045 - val_loss: 0.5038\n",
      "Epoch 189/200\n",
      "22/22 [==============================] - 0s 5ms/step - loss: 0.5045 - val_loss: 0.5072\n",
      "Epoch 190/200\n",
      "22/22 [==============================] - 0s 4ms/step - loss: 0.5051 - val_loss: 0.5068\n",
      "Epoch 191/200\n",
      "22/22 [==============================] - 0s 4ms/step - loss: 0.5037 - val_loss: 0.5036\n",
      "Epoch 192/200\n",
      "22/22 [==============================] - 0s 4ms/step - loss: 0.5040 - val_loss: 0.5030\n",
      "Epoch 193/200\n",
      "22/22 [==============================] - 0s 5ms/step - loss: 0.5039 - val_loss: 0.5070\n",
      "Epoch 194/200\n",
      "22/22 [==============================] - 0s 4ms/step - loss: 0.5041 - val_loss: 0.5036\n",
      "Epoch 195/200\n",
      "22/22 [==============================] - 0s 5ms/step - loss: 0.5039 - val_loss: 0.5070\n",
      "Epoch 196/200\n",
      "22/22 [==============================] - 0s 5ms/step - loss: 0.5036 - val_loss: 0.5060\n",
      "Epoch 197/200\n",
      "22/22 [==============================] - 0s 4ms/step - loss: 0.5032 - val_loss: 0.5036\n",
      "Epoch 198/200\n",
      "22/22 [==============================] - 0s 5ms/step - loss: 0.5037 - val_loss: 0.5057\n",
      "Epoch 199/200\n",
      "22/22 [==============================] - 0s 5ms/step - loss: 0.5034 - val_loss: 0.5023\n",
      "Epoch 200/200\n",
      "22/22 [==============================] - 0s 6ms/step - loss: 0.5030 - val_loss: 0.5032\n"
     ]
    },
    {
     "data": {
      "text/plain": [
       "<keras.src.callbacks.History at 0x1f67c25ca60>"
      ]
     },
     "execution_count": 29,
     "metadata": {},
     "output_type": "execute_result"
    }
   ],
   "source": [
    "model.fit(x= X_train, y = y_train, epochs = 200, validation_data = (X_test, y_test))"
   ]
  },
  {
   "cell_type": "code",
   "execution_count": 30,
   "id": "4f4895c6",
   "metadata": {},
   "outputs": [],
   "source": [
    "losses = pd.DataFrame(model.history.history)"
   ]
  },
  {
   "cell_type": "code",
   "execution_count": 31,
   "id": "93757f6a",
   "metadata": {},
   "outputs": [
    {
     "data": {
      "text/plain": [
       "<AxesSubplot: >"
      ]
     },
     "execution_count": 31,
     "metadata": {},
     "output_type": "execute_result"
    },
    {
     "data": {
      "image/png": "[encoded data removed]",
      "text/plain": [
       "<Figure size 640x480 with 1 Axes>"
      ]
     },
     "metadata": {},
     "output_type": "display_data"
    }
   ],
   "source": [
    "losses.plot()"
   ]
  },
  {
   "cell_type": "code",
   "execution_count": 32,
   "id": "967a3040",
   "metadata": {},
   "outputs": [],
   "source": [
    "from sklearn.metrics import confusion_matrix, classification_report"
   ]
  },
  {
   "cell_type": "code",
   "execution_count": 33,
   "id": "d37213d3",
   "metadata": {},
   "outputs": [
    {
     "name": "stdout",
     "output_type": "stream",
     "text": [
      "11/11 [==============================] - 0s 3ms/step\n"
     ]
    }
   ],
   "source": [
    "y_pred = model.predict(X_test)\n",
    "y_pred = y_pred > 0.5"
   ]
  },
  {
   "cell_type": "code",
   "execution_count": 34,
   "id": "2d2a11d2",
   "metadata": {},
   "outputs": [
    {
     "data": {
      "text/plain": [
       "array([[ 97,  31],\n",
       "       [ 62, 145]], dtype=int64)"
      ]
     },
     "execution_count": 34,
     "metadata": {},
     "output_type": "execute_result"
    }
   ],
   "source": [
    "confusion_matrix(y_test, y_pred)"
   ]
  },
  {
   "cell_type": "code",
   "execution_count": 35,
   "id": "e21021eb",
   "metadata": {},
   "outputs": [
    {
     "name": "stdout",
     "output_type": "stream",
     "text": [
      "              precision    recall  f1-score   support\n",
      "\n",
      "           0       0.61      0.76      0.68       128\n",
      "           1       0.82      0.70      0.76       207\n",
      "\n",
      "    accuracy                           0.72       335\n",
      "   macro avg       0.72      0.73      0.72       335\n",
      "weighted avg       0.74      0.72      0.73       335\n",
      "\n"
     ]
    }
   ],
   "source": [
    "print(classification_report(y_test, y_pred))"
   ]
  },
  {
   "cell_type": "code",
   "execution_count": 66,
   "id": "8be88767",
   "metadata": {},
   "outputs": [],
   "source": [
    "mh = [[30,130,90,6.8,98.0,78]]"
   ]
  },
  {
   "cell_type": "code",
   "execution_count": 67,
   "id": "9c98dfde",
   "metadata": {},
   "outputs": [],
   "source": [
    "mh = sc.transform(mh)"
   ]
  },
  {
   "cell_type": "code",
   "execution_count": 68,
   "id": "1c12280f",
   "metadata": {},
   "outputs": [
    {
     "name": "stdout",
     "output_type": "stream",
     "text": [
      "1/1 [==============================] - 0s 30ms/step\n"
     ]
    },
    {
     "data": {
      "text/plain": [
       "array([[0.51824665]], dtype=float32)"
      ]
     },
     "execution_count": 68,
     "metadata": {},
     "output_type": "execute_result"
    }
   ],
   "source": [
    "model.predict(mh)"
   ]
  },
  {
   "cell_type": "code",
   "execution_count": null,
   "id": "77f317e0",
   "metadata": {},
   "outputs": [],
   "source": []
  }
 ],
 "metadata": {
  "kernelspec": {
   "display_name": "Python 3 (ipykernel)",
   "language": "python",
   "name": "python3"
  },
  "language_info": {
   "codemirror_mode": {
    "name": "ipython",
    "version": 3
   },
   "file_extension": ".py",
   "mimetype": "text/x-python",
   "name": "python",
   "nbconvert_exporter": "python",
   "pygments_lexer": "ipython3",
   "version": "3.10.7"
  }
 },
 "nbformat": 4,
 "nbformat_minor": 5
}
